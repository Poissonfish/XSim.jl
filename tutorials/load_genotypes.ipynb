{
  "cells": [
    {
      "cell_type": "markdown",
      "source": [
        "# Load genotypes by files"
      ],
      "metadata": {}
    },
    {
      "outputs": [],
      "cell_type": "code",
      "source": [
        "using CSV\nusing DataFrames"
      ],
      "metadata": {},
      "execution_count": null
    },
    {
      "cell_type": "markdown",
      "source": [
        "### Step 0. Load XSim and set random seed"
      ],
      "metadata": {}
    },
    {
      "outputs": [],
      "cell_type": "code",
      "source": [
        "using XSim"
      ],
      "metadata": {},
      "execution_count": null
    },
    {
      "cell_type": "markdown",
      "source": [
        "### Step 1. Setup genome and phenome with small examples"
      ],
      "metadata": {}
    },
    {
      "outputs": [],
      "cell_type": "code",
      "source": [
        "XSim.build_demo_small()"
      ],
      "metadata": {},
      "execution_count": null
    },
    {
      "cell_type": "markdown",
      "source": [
        "```\n[ Info: --------- Genome Summary ---------\n[ Info: Number of Chromosome  : 2\n[ Info: \n[ Info: Chromosome Length (cM): 16.0\n[ Info: [8.0, 8.0]\n[ Info: \n[ Info: Number of Loci        : 10\n[ Info: [5, 5]\n[ Info: \n[ Info: Genotyping Error      : 0.0\n[ Info: Mutation Rate         : 0.0\n[ Info: \n[ Info: --------- Phenome Summary ---------\n[ Info: Number of Traits      : 2\n┌ Info: \n│   Genetic_Variance =\n│    2×2 Array{Float64,2}:\n│     1.0  0.0\n└     0.0  1.0\n[ Info: Number of QTLs        : [2 5]\n```\n\n### Step 2. Inspect genotypes"
      ],
      "metadata": {}
    },
    {
      "outputs": [],
      "cell_type": "code",
      "source": [
        "root      = dirname(dirname(pathof(XSim)))\nfilepath  = joinpath(root, \"data\", \"demo_genotypes.csv\")\ngenotypes = CSV.read(filepath, DataFrame, header=false)"
      ],
      "metadata": {},
      "execution_count": null
    },
    {
      "outputs": [],
      "cell_type": "code",
      "source": [
        "# XSim provide example data with XSim.data() function\ngenotypes = XSim.data(\"genotypes\")"
      ],
      "metadata": {},
      "execution_count": null
    },
    {
      "outputs": [],
      "cell_type": "code",
      "source": [
        "genotypes"
      ],
      "metadata": {},
      "execution_count": null
    },
    {
      "cell_type": "markdown",
      "source": [
        "### Step 3. Initialize founders by files or dataframes"
      ],
      "metadata": {}
    },
    {
      "outputs": [],
      "cell_type": "code",
      "source": [
        "cohort = Founders(genotypes)"
      ],
      "metadata": {},
      "execution_count": null
    },
    {
      "cell_type": "markdown",
      "source": [
        "```\n[ Info: MAF has been updated based on provided haplotypes/genotypes\n[ Info: Cohort (5 individuals)\n[ Info: \n[ Info: Mean of breeding values: \n[ Info: [1.003 0.965]\n[ Info: \n[ Info: Variance of breeding values: \n[ Info: [1.734 1.261]\n```"
      ],
      "metadata": {}
    },
    {
      "outputs": [],
      "cell_type": "code",
      "source": [
        "root      = dirname(dirname(pathof(XSim)))\nfilepath  = joinpath(root, \"data\", \"demo_genotypes.csv\")\ncohort    = Founders(filepath)"
      ],
      "metadata": {},
      "execution_count": null
    },
    {
      "cell_type": "markdown",
      "source": [
        "```\n[ Info: MAF has been updated based on provided haplotypes/genotypes\n[ Info: Cohort (5 individuals)\n[ Info: \n[ Info: Mean of breeding values: \n[ Info: [1.003 0.965]\n[ Info: \n[ Info: Variance of breeding values: \n[ Info: [1.734 1.261]\n```\n\nInspect the founders"
      ],
      "metadata": {}
    },
    {
      "outputs": [],
      "cell_type": "code",
      "source": [
        "get_genotypes(cohort)"
      ],
      "metadata": {},
      "execution_count": null
    },
    {
      "cell_type": "markdown",
      "source": [
        "```\n5×10 LinearAlgebra.Adjoint{Int64,Array{Int64,2}}:\n 2  0  0  0  1  0  0  2  1  0\n 0  0  0  1  0  0  0  2  0  1\n 0  1  0  0  2  1  0  0  0  0\n 1  1  0  0  2  1  0  0  2  0\n 2  2  0  1  2  0  0  2  0  2\n```"
      ],
      "metadata": {}
    },
    {
      "outputs": [],
      "cell_type": "code",
      "source": [
        "get_QTLs(cohort)"
      ],
      "metadata": {},
      "execution_count": null
    },
    {
      "cell_type": "markdown",
      "source": [
        "```\n5×6 Array{Int64,2}:\n2  0  0  0  0  2\n0  0  0  0  0  2\n0  1  0  1  0  0\n1  1  0  1  0  0\n2  2  0  0  0  2\n```"
      ],
      "metadata": {}
    },
    {
      "outputs": [],
      "cell_type": "code",
      "source": [
        "get_BVs(cohort)"
      ],
      "metadata": {},
      "execution_count": null
    },
    {
      "cell_type": "markdown",
      "source": [
        "```\n5×2 LinearAlgebra.Adjoint{Float64,Array{Float64,2}}:\n0.0         3.07603\n0.0         1.47043\n0.00488477  0.780246\n0.00488477  1.58304\n0.0         4.63652\n```"
      ],
      "metadata": {}
    },
    {
      "outputs": [],
      "cell_type": "code",
      "source": [
        "get_pedigrees(cohort)"
      ],
      "metadata": {},
      "execution_count": null
    },
    {
      "cell_type": "markdown",
      "source": [
        "```\n5×3 LinearAlgebra.Adjoint{Int64,Array{Int64,2}}:\n6  0  0\n7  0  0\n8  0  0\n9  0  0\n10  0  0\n```\n\n### Step 4. Mate and select for 5 generations"
      ],
      "metadata": {}
    },
    {
      "outputs": [],
      "cell_type": "code",
      "source": [
        "args = Dict(:n_per_mate      => 4,\n            :n_gens          => 5,\n            :ratio_malefemale=> 2,\n            :h2              => [.8, .8])\nmales, females = breed(cohort, cohort; args...)"
      ],
      "metadata": {},
      "execution_count": null
    },
    {
      "cell_type": "markdown",
      "source": [
        "```\n\n[ Info: Gen 0 -> Mean of BVs: [0.002 2.309], Variance of BVs: [0.0 2.127]\n[ Info: Gen 1 -> Mean of BVs: [0.0 3.48], Variance of BVs: [0.0 0.581]\n[ Info: Gen 2 -> Mean of BVs: [0.0 4.026], Variance of BVs: [0.0 0.239]\n[ Info: Gen 3 -> Mean of BVs: [0.0 4.177], Variance of BVs: [0.0 0.411]\n[ Info: Gen 4 -> Mean of BVs: [0.0 4.402], Variance of BVs: [0.0 0.142]\n[ Info: Gen 5 -> Mean of BVs: [0.0 4.48], Variance of BVs: [0.0 0.108]\n```\n\n### Step 5. Examine the results"
      ],
      "metadata": {}
    },
    {
      "outputs": [],
      "cell_type": "code",
      "source": [
        "summary(males + females)"
      ],
      "metadata": {},
      "execution_count": null
    },
    {
      "cell_type": "markdown",
      "source": [
        "```\nDict{String,Any} with 3 entries:\n  \"mu_g\"  => [0.0 4.48]\n  \"var_g\" => [0.0 0.108]\n  \"n\"     => 10\n```\n\nCompare the allele frequencies"
      ],
      "metadata": {}
    },
    {
      "outputs": [],
      "cell_type": "code",
      "source": [
        "get_QTLs(cohort) |> get_MAF"
      ],
      "metadata": {},
      "execution_count": null
    },
    {
      "cell_type": "markdown",
      "source": [
        "```\n6-element Array{Float64,1}:\n0.5\n0.4\n0.0\n0.2\n0.0\n0.4\n```"
      ],
      "metadata": {}
    },
    {
      "outputs": [],
      "cell_type": "code",
      "source": [
        "get_QTLs(males + females) |> get_MAF"
      ],
      "metadata": {},
      "execution_count": null
    },
    {
      "cell_type": "markdown",
      "source": [
        "```\n6-element Array{Float64,1}:\n0.0\n0.1\n0.0\n0.0\n0.0\n0.0\n```"
      ],
      "metadata": {}
    }
  ],
  "nbformat_minor": 2,
  "metadata": {
    "language_info": {
      "file_extension": ".jl",
      "mimetype": "application/julia",
      "name": "julia",
      "version": "1.5.4"
    },
    "kernelspec": {
      "name": "julia-1.5",
      "display_name": "Julia 1.5.4",
      "language": "julia"
    }
  },
  "nbformat": 4
}
